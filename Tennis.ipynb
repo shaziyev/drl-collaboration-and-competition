{
 "cells": [
  {
   "cell_type": "markdown",
   "metadata": {},
   "source": [
    "# Collaboration and Competition\n",
    "\n",
    "---\n",
    "\n",
    "In this notebook, you will learn how to use the Unity ML-Agents environment for the third project of the [Deep Reinforcement Learning Nanodegree](https://www.udacity.com/course/deep-reinforcement-learning-nanodegree--nd893) program.\n",
    "\n",
    "### 1. Start the Environment\n",
    "\n",
    "We begin by importing the necessary packages.  If the code cell below returns an error, please revisit the project instructions to double-check that you have installed [Unity ML-Agents](https://github.com/Unity-Technologies/ml-agents/blob/master/docs/Installation.md) and [NumPy](http://www.numpy.org/)."
   ]
  },
  {
   "cell_type": "code",
   "execution_count": 1,
   "metadata": {},
   "outputs": [],
   "source": [
    "from unityagents import UnityEnvironment\n",
    "import numpy as np"
   ]
  },
  {
   "cell_type": "markdown",
   "metadata": {},
   "source": [
    "Next, we will start the environment!  **_Before running the code cell below_**, change the `file_name` parameter to match the location of the Unity environment that you downloaded.\n",
    "\n",
    "- **Mac**: `\"path/to/Tennis.app\"`\n",
    "- **Windows** (x86): `\"path/to/Tennis_Windows_x86/Tennis.exe\"`\n",
    "- **Windows** (x86_64): `\"path/to/Tennis_Windows_x86_64/Tennis.exe\"`\n",
    "- **Linux** (x86): `\"path/to/Tennis_Linux/Tennis.x86\"`\n",
    "- **Linux** (x86_64): `\"path/to/Tennis_Linux/Tennis.x86_64\"`\n",
    "- **Linux** (x86, headless): `\"path/to/Tennis_Linux_NoVis/Tennis.x86\"`\n",
    "- **Linux** (x86_64, headless): `\"path/to/Tennis_Linux_NoVis/Tennis.x86_64\"`\n",
    "\n",
    "For instance, if you are using a Mac, then you downloaded `Tennis.app`.  If this file is in the same folder as the notebook, then the line below should appear as follows:\n",
    "```\n",
    "env = UnityEnvironment(file_name=\"Tennis.app\")\n",
    "```"
   ]
  },
  {
   "cell_type": "code",
   "execution_count": 2,
   "metadata": {},
   "outputs": [
    {
     "name": "stderr",
     "output_type": "stream",
     "text": [
      "INFO:unityagents:\n",
      "'Academy' started successfully!\n",
      "Unity Academy name: Academy\n",
      "        Number of Brains: 1\n",
      "        Number of External Brains : 1\n",
      "        Lesson number : 0\n",
      "        Reset Parameters :\n",
      "\t\t\n",
      "Unity brain name: TennisBrain\n",
      "        Number of Visual Observations (per agent): 0\n",
      "        Vector Observation space type: continuous\n",
      "        Vector Observation space size (per agent): 8\n",
      "        Number of stacked Vector Observation: 3\n",
      "        Vector Action space type: continuous\n",
      "        Vector Action space size (per agent): 2\n",
      "        Vector Action descriptions: , \n"
     ]
    }
   ],
   "source": [
    "import platform\n",
    "if (platform.system() == \"Darwin\"):\n",
    "    env = UnityEnvironment(file_name=\"Tennis.app\")\n",
    "elif (platform.system() == \"Linux\"):\n",
    "    env = UnityEnvironment(file_name=\"Tennis_Linux_NoVis/Tennis.x86_64\")\n",
    "else:\n",
    "    print(\"specify path to Unity environment based on your OS\")"
   ]
  },
  {
   "cell_type": "markdown",
   "metadata": {},
   "source": [
    "Environments contain **_brains_** which are responsible for deciding the actions of their associated agents. Here we check for the first brain available, and set it as the default brain we will be controlling from Python."
   ]
  },
  {
   "cell_type": "code",
   "execution_count": 3,
   "metadata": {},
   "outputs": [],
   "source": [
    "# get the default brain\n",
    "brain_name = env.brain_names[0]\n",
    "brain = env.brains[brain_name]"
   ]
  },
  {
   "cell_type": "markdown",
   "metadata": {},
   "source": [
    "### 2. Examine the State and Action Spaces\n",
    "\n",
    "In this environment, two agents control rackets to bounce a ball over a net. If an agent hits the ball over the net, it receives a reward of +0.1.  If an agent lets a ball hit the ground or hits the ball out of bounds, it receives a reward of -0.01.  Thus, the goal of each agent is to keep the ball in play.\n",
    "\n",
    "The observation space consists of 8 variables corresponding to the position and velocity of the ball and racket. Two continuous actions are available, corresponding to movement toward (or away from) the net, and jumping. \n",
    "\n",
    "Run the code cell below to print some information about the environment."
   ]
  },
  {
   "cell_type": "code",
   "execution_count": 4,
   "metadata": {},
   "outputs": [
    {
     "name": "stdout",
     "output_type": "stream",
     "text": [
      "Number of agents: 2\n",
      "Size of each action: 2\n",
      "There are 2 agents. Each observes a state with length: 24\n",
      "The state for the first agent looks like: [ 0.          0.          0.          0.          0.          0.\n",
      "  0.          0.          0.          0.          0.          0.\n",
      "  0.          0.          0.          0.         -6.65278625 -1.5\n",
      " -0.          0.          6.83172083  6.         -0.          0.        ]\n"
     ]
    }
   ],
   "source": [
    "# reset the environment\n",
    "env_info = env.reset(train_mode=True)[brain_name]\n",
    "\n",
    "# number of agents \n",
    "num_agents = len(env_info.agents)\n",
    "print('Number of agents:', num_agents)\n",
    "\n",
    "# size of each action\n",
    "action_size = brain.vector_action_space_size\n",
    "print('Size of each action:', action_size)\n",
    "\n",
    "# examine the state space \n",
    "states = env_info.vector_observations\n",
    "state_size = states.shape[1]\n",
    "print('There are {} agents. Each observes a state with length: {}'.format(states.shape[0], state_size))\n",
    "print('The state for the first agent looks like:', states[0])"
   ]
  },
  {
   "cell_type": "code",
   "execution_count": 5,
   "metadata": {},
   "outputs": [],
   "source": [
    "from IPython.display import clear_output, display\n",
    "from ipywidgets import IntSlider, Output\n",
    "from matplotlib import pyplot as plt\n",
    "import collections\n",
    "%matplotlib inline\n",
    "\n",
    "def live_plot(out, data_dict, figsize=(9,6), title=''):\n",
    "    with out:\n",
    "        clear_output(wait=True)\n",
    "        plt.figure(figsize=figsize)\n",
    "        for label,data in data_dict.items():\n",
    "            plt.plot(data, label=label)\n",
    "        plt.title(title)\n",
    "        plt.grid(True)\n",
    "        plt.ylabel('Score')\n",
    "        plt.xlabel('Episode #')\n",
    "        plt.legend(loc='upper left') # the plot evolves to the right\n",
    "        plt.show()"
   ]
  },
  {
   "cell_type": "code",
   "execution_count": 6,
   "metadata": {},
   "outputs": [],
   "source": [
    "import torch\n",
    "from collections import deque\n",
    "\n",
    "def ddpg(agent, n_episodes=1000):\n",
    "    \n",
    "    out_plot = Output()\n",
    "    out_text = Output()\n",
    "    display(out_plot)\n",
    "    display(out_text)\n",
    "    \n",
    "    avr_scores_deque = deque(maxlen=100)\n",
    "    all_scores = []\n",
    "    avr_scores = []\n",
    "    plot_data = collections.defaultdict(list)\n",
    "\n",
    "    for i_episode in range(1, n_episodes+1):\n",
    "        episode_scores, steps = agent.steps()\n",
    "  \n",
    "        episode_score = np.max(episode_scores)\n",
    "        all_scores.append(episode_score)\n",
    "        avr_scores_deque.append(episode_score)\n",
    "        avr_score = np.mean(avr_scores_deque)\n",
    "        avr_scores.append(avr_score)\n",
    "        \n",
    "        if i_episode == 250:\n",
    "            agent.add_noise_on_act(False)\n",
    "        \n",
    "        plot_data['episode score'].append(episode_score)\n",
    "        plot_data['average score'].append(avr_score)\n",
    "        live_plot(out_plot, plot_data)\n",
    "        \n",
    "        with out_text: print('\\rEpisode {}\\tAverage Score: {:.2f}\\tScore: {:.2f}'.format(i_episode, avr_score, episode_score), end=\"\")               \n",
    "                    \n",
    "        if i_episode % 100 == 0:\n",
    "            with out_text: print('\\rEpisode {:d}\\tAverage Score: {:.2f}'.format(i_episode, avr_score))\n",
    "        if avr_score > 0.5:\n",
    "            with out_text: print('\\nEnvironment solved in {:d} episodes!\\tAverage Score: {:.2f}'.format(i_episode, avr_score))\n",
    "            break\n",
    "                                   \n",
    "    return all_scores, avr_scores"
   ]
  },
  {
   "cell_type": "code",
   "execution_count": 7,
   "metadata": {
    "scrolled": false
   },
   "outputs": [
    {
     "data": {
      "application/vnd.jupyter.widget-view+json": {
       "model_id": "86182f81cfb04ba8abde7e13439d0c6d",
       "version_major": 2,
       "version_minor": 0
      },
      "text/plain": [
       "Output()"
      ]
     },
     "metadata": {},
     "output_type": "display_data"
    },
    {
     "data": {
      "application/vnd.jupyter.widget-view+json": {
       "model_id": "b233afaa089648cb88c76e53bc727c85",
       "version_major": 2,
       "version_minor": 0
      },
      "text/plain": [
       "Output()"
      ]
     },
     "metadata": {},
     "output_type": "display_data"
    },
    {
     "name": "stdout",
     "output_type": "stream",
     "text": [
      "Agent training time: 10.6 min\n"
     ]
    }
   ],
   "source": [
    "import time\n",
    "from ddpg_agent import DdpgAgent\n",
    "device = torch.device(\"cuda:0\" if torch.cuda.is_available() else \"cpu\")\n",
    "\n",
    "config = dict(env=dict(state_size=state_size,\n",
    "                      action_size=action_size,\n",
    "                      simulator=env,\n",
    "                      brain_name=brain_name,\n",
    "                      num_agents=num_agents),\n",
    "             actor=dict(hidden_layers=[256, 128, 64]),\n",
    "             critic=dict(hidden_layers=[256, 128, 64]),\n",
    "             learning=dict(buffer_size=int(50000),\n",
    "                          batch_size=1024,\n",
    "                          discount=0.9,\n",
    "                          max_t=1000,\n",
    "                          soft_update_tau=0.2,\n",
    "                          lr_actor=0.001,\n",
    "                          lr_critic=0.001,\n",
    "                          lr_decay=dict(activate=False,\n",
    "                                       actor_step=100,\n",
    "                                       actor_gamma=0.5,\n",
    "                                       critic_step=100,\n",
    "                                       critic_gamma=0.5),\n",
    "                          learn_every_n_steps=1,\n",
    "                          num_learn_steps=1,\n",
    "                          checkpointfile=\"checkpoint.pth\"\n",
    "                          )\n",
    "             )\n",
    "\n",
    "agent = DdpgAgent(config, 2, device)\n",
    "\n",
    "start_time = time.time()\n",
    "scores, avr_scores = ddpg(agent, n_episodes=500)\n",
    "elapsed = time.time() - start_time\n",
    "print(\"Agent training time: {:.1f} min\" .format(elapsed/60))\n",
    "\n",
    "agent.save_model()"
   ]
  },
  {
   "cell_type": "code",
   "execution_count": null,
   "metadata": {},
   "outputs": [],
   "source": [
    "from model import Actor\n",
    "\n",
    "checkpoint = torch.load(\"checkpoint.pth\")\n",
    "trained_model = Actor(checkpoint[\"state_size\"],\n",
    "                      checkpoint[\"action_size\"],\n",
    "                      2,\n",
    "                      checkpoint[\"hidden_layers\"])\n",
    "trained_model.load_state_dict(checkpoint[\"state_dict\"])\n",
    "\n",
    "def play(n_episodes=1, max_steps=1000):\n",
    "    scores = []\n",
    "    for i_episode in range(1, n_episodes+1):\n",
    "        env_info = env.reset(train_mode=False)[brain_name] # reset the environment    \n",
    "        states = np.array(env_info.vector_observations)    # get the current state\n",
    "        states = torch.from_numpy(states).float().to(\"cpu\")\n",
    "        scores = np.zeros(num_agents)       # initialize the score (for each agent)\n",
    "        trained_model.eval()                # set train= False\n",
    "        while True:\n",
    "            with torch.no_grad():\n",
    "                actions = trained_model(states).cpu().data.numpy()\n",
    "            env_info = env.step(actions)[brain_name]\n",
    "            next_states = np.array(env_info.vector_observations)\n",
    "            rewards = env_info.rewards\n",
    "            dones = env_info.local_done\n",
    "            scores += env_info.rewards\n",
    "            states = torch.from_numpy(next_states).float().to(\"cpu\")\n",
    "            if np.any(dones):\n",
    "                break\n",
    "        print(\"Episode: {}, Score: {:.2f}\" .format(i_episode, np.mean(scores)))\n",
    "\n",
    "play(10)"
   ]
  },
  {
   "cell_type": "markdown",
   "metadata": {},
   "source": [
    "When finished, you can close the environment."
   ]
  },
  {
   "cell_type": "code",
   "execution_count": null,
   "metadata": {},
   "outputs": [],
   "source": [
    "env.close()"
   ]
  },
  {
   "cell_type": "code",
   "execution_count": null,
   "metadata": {},
   "outputs": [],
   "source": []
  }
 ],
 "metadata": {
  "kernelspec": {
   "display_name": "drlnd",
   "language": "python",
   "name": "drlnd"
  },
  "language_info": {
   "codemirror_mode": {
    "name": "ipython",
    "version": 3
   },
   "file_extension": ".py",
   "mimetype": "text/x-python",
   "name": "python",
   "nbconvert_exporter": "python",
   "pygments_lexer": "ipython3",
   "version": "3.6.5"
  }
 },
 "nbformat": 4,
 "nbformat_minor": 2
}
